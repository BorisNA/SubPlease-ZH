{
  "nbformat": 4,
  "nbformat_minor": 0,
  "metadata": {
    "colab": {
      "provenance": [],
      "gpuType": "T4",
      "include_colab_link": true
    },
    "kernelspec": {
      "name": "python3",
      "display_name": "Python 3"
    },
    "language_info": {
      "name": "python"
    },
    "accelerator": "GPU"
  },
  "cells": [
    {
      "cell_type": "markdown",
      "metadata": {
        "id": "view-in-github",
        "colab_type": "text"
      },
      "source": [
        "<a href=\"https://colab.research.google.com/github/BorisNA/SubPlease-ZH/blob/master/ZH_SubPlease.ipynb\" target=\"_parent\"><img src=\"https://colab.research.google.com/assets/colab-badge.svg\" alt=\"Open In Colab\"/></a>"
      ]
    },
    {
      "cell_type": "code",
      "execution_count": null,
      "metadata": {
        "id": "rOOZO0unENoy"
      },
      "outputs": [],
      "source": [
        "# Step 1\n",
        "\n",
        "# Load the Drive helper and mount\n",
        "from google.colab import drive\n",
        "drive.mount('/content/drive')"
      ]
    },
    {
      "cell_type": "code",
      "source": [
        "# Step 2\n",
        "\n",
        "# Show contents of your Drive\n",
        "# The folder and its contents should be set up as described in https://github.com/kanjieater/SubPlease\n",
        "# <name>/<name>.m4b + <name>/script.txt\n",
        "!ls /content/drive/MyDrive/Языки/convert/"
      ],
      "metadata": {
        "id": "lqRpFKrHEY49"
      },
      "execution_count": null,
      "outputs": []
    },
    {
      "cell_type": "code",
      "source": [
        "# Step 3\n",
        "\n",
        "# Update & install build requirements\n",
        "!apt update\n",
        "!apt install build-essential zlib1g-dev libncurses5-dev libgdbm-dev libnss3-dev libssl-dev libreadline-dev libffi-dev libsqlite3-dev wget libbz2-dev"
      ],
      "metadata": {
        "id": "T9NtSbrJE17V"
      },
      "execution_count": null,
      "outputs": []
    },
    {
      "cell_type": "code",
      "source": [
        "# Step 4\n",
        "\n",
        "# Build Python 3.9.9 and install\n",
        "# !wget https://www.python.org/ftp/python/3.9.9/Python-3.9.9.tgz\n",
        "# !tar -xf Python-3.9.9.tgz\n",
        "# %cd Python-3.9.9\n",
        "# !./configure --enable-optimizations\n",
        "# !make -j 12\n",
        "# !make install\n",
        "# !./python -m pip install --upgrade pip\n",
        "# %cd .."
      ],
      "metadata": {
        "id": "Bwidw6mhfgEZ"
      },
      "execution_count": null,
      "outputs": []
    },
    {
      "cell_type": "code",
      "source": [
        "# Step 5\n",
        "\n",
        "# Set up SubPlease\n",
        "%cd ~\n",
        "%rm -rf SubsPlease-ZH\n",
        "!echo /usr/lib64-nvidia/ >/etc/ld.so.conf.d/libcuda.conf; ldconfig\n",
        "!git clone https://github.com/BorisNA/SubPlease-ZH.git\n",
        "%cd SubPlease-ZH\n",
        "# Remove non-required stuff\n",
        "# !sed -i '6,10d' requirements.txt\n",
        "!pip install -r requirements-small.txt"
      ],
      "metadata": {
        "id": "KTxu4qCbhe_9"
      },
      "execution_count": null,
      "outputs": []
    },
    {
      "cell_type": "code",
      "source": [
        "# Step 6\n",
        "\n",
        "# Replace with your actual folder as set up in Step 2\n",
        "# After it has finished, download your <name>.srt\n",
        "!python run.py -d \"/content/drive/MyDrive/Языки/convert/\" --use-stable-ts-align"
      ],
      "metadata": {
        "id": "2ZZJA9mcf2kX"
      },
      "execution_count": null,
      "outputs": []
    }
  ]
}